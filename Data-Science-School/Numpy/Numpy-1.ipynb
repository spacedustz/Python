{
 "cells": [
  {
   "metadata": {},
   "cell_type": "markdown",
   "source": [
    "## Numpy\n",
    "\n",
    "Numpy는 수치 해석용 파이썬 패키지입니다.\n",
    "\n",
    "다차원의 배열 자료구조 클래스인 ndarray 클래스를 지원하며 벡터와 행렬을 사용하는 선형대수 계산에 주로 사용됩니다.\n",
    "\n",
    "내부적으로는 BLAS 라이브러리와 LAPACK 라이브러리를 사용하고 있으며, C로 구현된 CPython에서만 사용할 수 있습니다.\n",
    "\n",
    "<br>\n",
    "\n",
    "넘파이의 배열 연산은 C로 구현된 내부 반복문을 이용하기 때문에 파이썬에 비해 속도가 빠르며,\n",
    "\n",
    "벡터화 연산(vectorized operation)을 이용하여 간단한 코드로 복잡한 선형 대수 연산을 수행합니다.\n",
    "\n",
    "또한 배열 인덱싱을 사용한 질의(Query) 기능을 이용하여 간단한 코드로도 복잡한 수식을 계산할 수 있습니다."
   ],
   "id": "29266d68bb6ba60f"
  },
  {
   "metadata": {},
   "cell_type": "markdown",
   "source": [
    "## 1차원 배열 생성\n",
    "\n",
    "Numpy의 `array` 함수에 리스트를 넣으면 `ndarray` 클래스 객체 즉, 배열로 반환해 줍니다.\n",
    "\n",
    "아래는 배열을 생성하는 방법입니다.\n",
    "\n",
    "Python의 리스트와 비슷해보이지만, type 명령으로 자료형을 확인해보면 ndarray인 것을 알 수 있습니다."
   ],
   "id": "cc8ede25c5f3963f"
  },
  {
   "metadata": {
    "ExecuteTime": {
     "end_time": "2024-06-23T09:02:28.658744Z",
     "start_time": "2024-06-23T09:02:28.654703Z"
    }
   },
   "cell_type": "code",
   "source": [
    "import numpy\n",
    "import numpy as np\n",
    "\n",
    "ar = np.array([1,2,3,4,5,6,7,8,9,10])\n",
    "ar"
   ],
   "id": "522ff9e262073fcf",
   "outputs": [
    {
     "data": {
      "text/plain": [
       "array([ 1,  2,  3,  4,  5,  6,  7,  8,  9, 10])"
      ]
     },
     "execution_count": 574,
     "metadata": {},
     "output_type": "execute_result"
    }
   ],
   "execution_count": 574
  },
  {
   "metadata": {},
   "cell_type": "markdown",
   "source": [
    "## 벡터화 연산(vectorized operation)\n",
    "\n",
    "배열 객체는 배열의 각 원소에 대한 반복 연산을 하나의 명령어로 처리하는 벡터화 연산(vectorized operation)을 지원합니다.\n",
    "\n",
    "예를 들어 여러개의 데이터를 모두 2를 곱해야 하는 상황일떄 for 반복문을 안쓰고 간단하게 각 원소에 곱할 수 있습니다."
   ],
   "id": "b96b982fd72d067e"
  },
  {
   "metadata": {
    "ExecuteTime": {
     "end_time": "2024-06-23T09:02:28.740322Z",
     "start_time": "2024-06-23T09:02:28.736308Z"
    }
   },
   "cell_type": "code",
   "source": [
    "data = np.array([1,2,3,4,5,6,7,8,9,10])\n",
    "data * 2"
   ],
   "id": "6c165b96a03e6d21",
   "outputs": [
    {
     "data": {
      "text/plain": [
       "array([ 2,  4,  6,  8, 10, 12, 14, 16, 18, 20])"
      ]
     },
     "execution_count": 575,
     "metadata": {},
     "output_type": "execute_result"
    }
   ],
   "execution_count": 575
  },
  {
   "metadata": {
    "ExecuteTime": {
     "end_time": "2024-06-23T09:02:28.797065Z",
     "start_time": "2024-06-23T09:02:28.794111Z"
    }
   },
   "cell_type": "code",
   "source": [
    "a = np.array([1, 2, 3])\n",
    "b = np.array([10, 20, 30])"
   ],
   "id": "269226f896d4ba61",
   "outputs": [],
   "execution_count": 576
  },
  {
   "metadata": {},
   "cell_type": "markdown",
   "source": [
    "벡터화 연산은 비교 연산과 논리 연산을 포함한 모든 종류의 수학 연산에 대해 적용됩니다.\n",
    "\n",
    "선형 대수에 적용되는 벡털화 연산에 대해서는 나중에 자세히 알아봅니다."
   ],
   "id": "9f041baa34c9a8c"
  },
  {
   "metadata": {
    "ExecuteTime": {
     "end_time": "2024-06-23T09:02:28.825708Z",
     "start_time": "2024-06-23T09:02:28.821921Z"
    }
   },
   "cell_type": "code",
   "source": "2 * a + b",
   "id": "dee37d02fdbfc0ba",
   "outputs": [
    {
     "data": {
      "text/plain": [
       "array([12, 24, 36])"
      ]
     },
     "execution_count": 577,
     "metadata": {},
     "output_type": "execute_result"
    }
   ],
   "execution_count": 577
  },
  {
   "metadata": {
    "ExecuteTime": {
     "end_time": "2024-06-23T09:02:28.840724Z",
     "start_time": "2024-06-23T09:02:28.836605Z"
    }
   },
   "cell_type": "code",
   "source": "a == 2",
   "id": "8712f8cd7fb75263",
   "outputs": [
    {
     "data": {
      "text/plain": [
       "array([False,  True, False])"
      ]
     },
     "execution_count": 578,
     "metadata": {},
     "output_type": "execute_result"
    }
   ],
   "execution_count": 578
  },
  {
   "metadata": {
    "ExecuteTime": {
     "end_time": "2024-06-23T09:02:28.846704Z",
     "start_time": "2024-06-23T09:02:28.841730Z"
    }
   },
   "cell_type": "code",
   "source": "b > 10",
   "id": "f0b0b3576b6826da",
   "outputs": [
    {
     "data": {
      "text/plain": [
       "array([False,  True,  True])"
      ]
     },
     "execution_count": 579,
     "metadata": {},
     "output_type": "execute_result"
    }
   ],
   "execution_count": 579
  },
  {
   "metadata": {
    "ExecuteTime": {
     "end_time": "2024-06-23T09:02:28.882149Z",
     "start_time": "2024-06-23T09:02:28.877012Z"
    }
   },
   "cell_type": "code",
   "source": "(a == 2) & (b > 10)",
   "id": "74993e8b2cd1179f",
   "outputs": [
    {
     "data": {
      "text/plain": [
       "array([False,  True, False])"
      ]
     },
     "execution_count": 580,
     "metadata": {},
     "output_type": "execute_result"
    }
   ],
   "execution_count": 580
  },
  {
   "metadata": {},
   "cell_type": "markdown",
   "source": [
    "## 2차원 배열 생성\n",
    "\n",
    "ndarray는 N_dimensional Array의 약자입니다.\n",
    "\n",
    "이름 그대로 1차원 배일 이외에도 2,3차원 등 다차원 배열 자료구조를 지원합니다.\n",
    "\n",
    "아래 코드와 같이 리스트 내부에 리스트를 이용해 2차원 배열을 생성할 수 있습니다.\n",
    "\n",
    "안쪽 리스트의 길이는 행렬의 열(가로) 개수, 바깥쪽 리스트의 길이는 행렬의 행(세로)의 개수가 됩니다.\n",
    "\n",
    "예를 들어 2개의 행과 3개의 열을 가지는 2 x 3 배열은 다음과 같습니다."
   ],
   "id": "dfbcad68dd77e266"
  },
  {
   "metadata": {
    "ExecuteTime": {
     "end_time": "2024-06-23T09:02:28.909561Z",
     "start_time": "2024-06-23T09:02:28.903985Z"
    }
   },
   "cell_type": "code",
   "source": [
    "c = np.array([[1,2,3], [4,5,6]]) # 2 x 3 array\n",
    "c"
   ],
   "id": "dd3500a19107a20",
   "outputs": [
    {
     "data": {
      "text/plain": [
       "array([[1, 2, 3],\n",
       "       [4, 5, 6]])"
      ]
     },
     "execution_count": 581,
     "metadata": {},
     "output_type": "execute_result"
    }
   ],
   "execution_count": 581
  },
  {
   "metadata": {},
   "cell_type": "markdown",
   "source": "2차원 배열의 행과 열의 개수는 다음과 같이 구합니다.",
   "id": "e543b57636ed5d88"
  },
  {
   "metadata": {
    "ExecuteTime": {
     "end_time": "2024-06-23T09:02:28.922491Z",
     "start_time": "2024-06-23T09:02:28.916758Z"
    }
   },
   "cell_type": "code",
   "source": [
    "# 행의 개수\n",
    "len(c)"
   ],
   "id": "4699a6e5957f923c",
   "outputs": [
    {
     "data": {
      "text/plain": [
       "2"
      ]
     },
     "execution_count": 582,
     "metadata": {},
     "output_type": "execute_result"
    }
   ],
   "execution_count": 582
  },
  {
   "metadata": {
    "ExecuteTime": {
     "end_time": "2024-06-23T09:02:28.928689Z",
     "start_time": "2024-06-23T09:02:28.924497Z"
    }
   },
   "cell_type": "code",
   "source": [
    "# 열의 개수\n",
    "len(c[0])"
   ],
   "id": "6153813326988ed7",
   "outputs": [
    {
     "data": {
      "text/plain": [
       "3"
      ]
     },
     "execution_count": 583,
     "metadata": {},
     "output_type": "execute_result"
    }
   ],
   "execution_count": 583
  },
  {
   "metadata": {},
   "cell_type": "markdown",
   "source": [
    "## 3차원 배열 생성\n",
    "\n",
    "리스트의 리스트의 리스트를 이용하면 3차원 배열을 생성할 수 있습니다.\n",
    "\n",
    "크기를 나타낼 떄는 가장 바깥쪽 리스트의 길이부터 가장 안쪽 리스트 길이의 순서로 표시합니다.\n",
    "\n",
    "예를 들어 2 x 3 x 4 배열은 다음과 같이 생성합니다."
   ],
   "id": "10186d5066c28b22"
  },
  {
   "metadata": {
    "ExecuteTime": {
     "end_time": "2024-06-23T09:02:28.938271Z",
     "start_time": "2024-06-23T09:02:28.934203Z"
    }
   },
   "cell_type": "code",
   "source": [
    "# 2 x 3 x 4 array\n",
    "d = np.array([[[1, 2, 3, 4],\n",
    "               [5, 6, 7, 8],\n",
    "               [9, 10, 11, 12]],\n",
    "              [[11, 12, 13, 14],\n",
    "               [15, 16, 17, 18],\n",
    "               [19, 20, 21, 22]]])"
   ],
   "id": "e28185d170edef51",
   "outputs": [],
   "execution_count": 584
  },
  {
   "metadata": {},
   "cell_type": "markdown",
   "source": "3차원 배열의 깊이, 행, 열은 다음과 같이 구할 수 있습니다.",
   "id": "851f8c695bc84444"
  },
  {
   "metadata": {
    "ExecuteTime": {
     "end_time": "2024-06-23T09:02:28.976862Z",
     "start_time": "2024-06-23T09:02:28.971538Z"
    }
   },
   "cell_type": "code",
   "source": "len(d), len(d[0]), len(d[0][0])",
   "id": "6585e15fd9fdbefa",
   "outputs": [
    {
     "data": {
      "text/plain": [
       "(2, 3, 4)"
      ]
     },
     "execution_count": 585,
     "metadata": {},
     "output_type": "execute_result"
    }
   ],
   "execution_count": 585
  },
  {
   "metadata": {},
   "cell_type": "markdown",
   "source": [
    "## 배열의 차원과 크기 구하기\n",
    "\n",
    "배열의 차원 및 크기를 구하는 더 간단한 방법은 배열의 `ndim` 속성과 `shape` 속성을 이용하는 것 입니다.\n",
    "\n",
    "`ndim` 속성은 배열의 차원, `shape` 속성은 배열의 크기를 반환합니다."
   ],
   "id": "82db49bd69c1b7ee"
  },
  {
   "metadata": {
    "ExecuteTime": {
     "end_time": "2024-06-23T09:02:28.991965Z",
     "start_time": "2024-06-23T09:02:28.987326Z"
    }
   },
   "cell_type": "code",
   "source": [
    "a = np.array([1,2,3])\n",
    "print(a.ndim)\n",
    "print(a.shape)"
   ],
   "id": "f57897b784916453",
   "outputs": [
    {
     "name": "stdout",
     "output_type": "stream",
     "text": [
      "1\n",
      "(3,)\n"
     ]
    }
   ],
   "execution_count": 586
  },
  {
   "metadata": {
    "ExecuteTime": {
     "end_time": "2024-06-23T09:02:29.004252Z",
     "start_time": "2024-06-23T09:02:28.998848Z"
    }
   },
   "cell_type": "code",
   "source": [
    "c = np.array([[1,2,3], [4,5,6]])\n",
    "print(c.ndim)\n",
    "print(c.shape)"
   ],
   "id": "a98ccdd1bc72e6fb",
   "outputs": [
    {
     "name": "stdout",
     "output_type": "stream",
     "text": [
      "2\n",
      "(2, 3)\n"
     ]
    }
   ],
   "execution_count": 587
  },
  {
   "metadata": {},
   "cell_type": "markdown",
   "source": [
    "## 배열 슬라이싱\n",
    "\n",
    "배열 객체로 구현한 다차원 배열의 원소 중 복수 개를 접근하려면 일반적인 파이썬 슬라이싱과 콤마를 함꼐 사용하면 됩니다."
   ],
   "id": "9a5a69b1a373f165"
  },
  {
   "metadata": {
    "ExecuteTime": {
     "end_time": "2024-06-23T09:02:29.050296Z",
     "start_time": "2024-06-23T09:02:29.044199Z"
    }
   },
   "cell_type": "code",
   "source": [
    "a = np.array([[1,2,3], [4,5,6]])\n",
    "a"
   ],
   "id": "d08a833d33e1cec2",
   "outputs": [
    {
     "data": {
      "text/plain": [
       "array([[1, 2, 3],\n",
       "       [4, 5, 6]])"
      ]
     },
     "execution_count": 588,
     "metadata": {},
     "output_type": "execute_result"
    }
   ],
   "execution_count": 588
  },
  {
   "metadata": {
    "ExecuteTime": {
     "end_time": "2024-06-23T09:02:29.077810Z",
     "start_time": "2024-06-23T09:02:29.072997Z"
    }
   },
   "cell_type": "code",
   "source": [
    "# 첫번째 행 전체\n",
    "a[0, :]"
   ],
   "id": "659291dc72a6edb6",
   "outputs": [
    {
     "data": {
      "text/plain": [
       "array([1, 2, 3])"
      ]
     },
     "execution_count": 589,
     "metadata": {},
     "output_type": "execute_result"
    }
   ],
   "execution_count": 589
  },
  {
   "metadata": {
    "ExecuteTime": {
     "end_time": "2024-06-23T09:02:29.112772Z",
     "start_time": "2024-06-23T09:02:29.106997Z"
    }
   },
   "cell_type": "code",
   "source": [
    "# 두번쨰 열 전체\n",
    "a[:, 1]"
   ],
   "id": "3e8f8451a5cb4cce",
   "outputs": [
    {
     "data": {
      "text/plain": [
       "array([2, 5])"
      ]
     },
     "execution_count": 590,
     "metadata": {},
     "output_type": "execute_result"
    }
   ],
   "execution_count": 590
  },
  {
   "metadata": {
    "ExecuteTime": {
     "end_time": "2024-06-23T09:02:29.144886Z",
     "start_time": "2024-06-23T09:02:29.138923Z"
    }
   },
   "cell_type": "code",
   "source": [
    "# 두번쨰 행의 두번째 열부터 끝 열까지\n",
    "a[1, 1:]"
   ],
   "id": "e50b8b780b2c406c",
   "outputs": [
    {
     "data": {
      "text/plain": [
       "array([5, 6])"
      ]
     },
     "execution_count": 591,
     "metadata": {},
     "output_type": "execute_result"
    }
   ],
   "execution_count": 591
  },
  {
   "metadata": {
    "ExecuteTime": {
     "end_time": "2024-06-23T09:02:29.173394Z",
     "start_time": "2024-06-23T09:02:29.169065Z"
    }
   },
   "cell_type": "code",
   "source": [
    "# 처음 두 행과 처음 두 열\n",
    "a[:2, :2]"
   ],
   "id": "1c7eb073bb68778d",
   "outputs": [
    {
     "data": {
      "text/plain": [
       "array([[1, 2],\n",
       "       [4, 5]])"
      ]
     },
     "execution_count": 592,
     "metadata": {},
     "output_type": "execute_result"
    }
   ],
   "execution_count": 592
  },
  {
   "metadata": {},
   "cell_type": "markdown",
   "source": [
    "## 배열 인덱싱\n",
    "\n",
    "넘파이 배열 객체의 또다른 강력한 기능은 Fancy Indexing 이라고 부르는 배열 인덱싱 방법입니다.\n",
    "\n",
    "이름은 인덱싱이지만 DB Query와 같은 기능을 수행합니다.\n",
    "\n",
    "배열 인덱싱에서는 대괄호안의 인덱스 정보로 숫자나 슬라이스가 아니라 위치 정보를 나타내는 또다른 ndarray 배열을 받을 수 있습니다.\n",
    "\n",
    "<br>\n",
    "\n",
    "배열 인덱싱의 방식에는 Boolean 배열 방식과 정수 배열 방식 2가지가 있습니다."
   ],
   "id": "2994df42f9571ede"
  },
  {
   "metadata": {},
   "cell_type": "markdown",
   "source": [
    "### Boolean Indexing\n",
    "\n",
    "- 인덱스 배열의 원소가 True, False 두 값으로만 구성됨\n",
    "- 인덱스 배열의 크기가 원래 ndarray 객체의 크기와 같아야 함\n",
    "\n",
    "<br>\n",
    "\n",
    "예를 들어 아래와 같은 1차원 `ndarray`에서 짝수인 원소만 골라내려면 짝수인 원소에 대응하는 인덱스 값이 True이고,\n",
    "\n",
    "홀수인 원소에 대응하는 인덱스 값이 False인 인덱스 배열을 넣으면 됩니다."
   ],
   "id": "50f876578f2f34b1"
  },
  {
   "metadata": {
    "ExecuteTime": {
     "end_time": "2024-06-23T09:02:29.196156Z",
     "start_time": "2024-06-23T09:02:29.191819Z"
    }
   },
   "cell_type": "code",
   "source": [
    "a = np.array([0, 1, 2, 3, 4, 5, 6, 7, 8, 9])\n",
    "idx = np.array([True, False, True, False, True, False, True, False, True, False])\n",
    "a[idx]"
   ],
   "id": "13021bb3cc3d5aa8",
   "outputs": [
    {
     "data": {
      "text/plain": [
       "array([0, 2, 4, 6, 8])"
      ]
     },
     "execution_count": 593,
     "metadata": {},
     "output_type": "execute_result"
    }
   ],
   "execution_count": 593
  },
  {
   "metadata": {},
   "cell_type": "markdown",
   "source": [
    "### 정수 배열 Indexing\n",
    "\n",
    "정수 배열 방식에서는 인덱스 배열의 원소 각각이 원래 `ndarray` 객체 원소 하나를 가리키는 인덱스 정수여야 합니다.\n",
    "\n",
    "예를 들어 아래 1차원 배열에서 홀수번쨰 원소만 골라내려면 이렇게 하면 됩니다."
   ],
   "id": "db9c9a661819fede"
  },
  {
   "metadata": {
    "ExecuteTime": {
     "end_time": "2024-06-23T09:02:29.209621Z",
     "start_time": "2024-06-23T09:02:29.204718Z"
    }
   },
   "cell_type": "code",
   "source": [
    "a = np.array([11, 22, 33, 44, 55, 66, 77, 88, 99])\n",
    "idx = np.array([0, 2, 4, 6, 8])\n",
    "a[idx]"
   ],
   "id": "8610178f6bc16928",
   "outputs": [
    {
     "data": {
      "text/plain": [
       "array([11, 33, 55, 77, 99])"
      ]
     },
     "execution_count": 594,
     "metadata": {},
     "output_type": "execute_result"
    }
   ],
   "execution_count": 594
  },
  {
   "metadata": {},
   "cell_type": "markdown",
   "source": "배열 인덱싱은 다차원 배열의 각 차원에도 사용할 수 있습니다.",
   "id": "7edf30c553f7ff6"
  },
  {
   "metadata": {
    "ExecuteTime": {
     "end_time": "2024-06-23T09:02:29.240645Z",
     "start_time": "2024-06-23T09:02:29.234075Z"
    }
   },
   "cell_type": "code",
   "source": [
    "a = np.array([[1, 2, 3, 4], [5, 6, 7, 8], [9, 10, 11, 12]])\n",
    "a"
   ],
   "id": "e1be550a38cf6d19",
   "outputs": [
    {
     "data": {
      "text/plain": [
       "array([[ 1,  2,  3,  4],\n",
       "       [ 5,  6,  7,  8],\n",
       "       [ 9, 10, 11, 12]])"
      ]
     },
     "execution_count": 595,
     "metadata": {},
     "output_type": "execute_result"
    }
   ],
   "execution_count": 595
  },
  {
   "metadata": {
    "ExecuteTime": {
     "end_time": "2024-06-23T09:02:29.262817Z",
     "start_time": "2024-06-23T09:02:29.257632Z"
    }
   },
   "cell_type": "code",
   "source": [
    "# 모든 행의 특정 원소만 출력\n",
    "a[:, [True, False, False, True]]"
   ],
   "id": "9e10e2317aeae6f6",
   "outputs": [
    {
     "data": {
      "text/plain": [
       "array([[ 1,  4],\n",
       "       [ 5,  8],\n",
       "       [ 9, 12]])"
      ]
     },
     "execution_count": 596,
     "metadata": {},
     "output_type": "execute_result"
    }
   ],
   "execution_count": 596
  },
  {
   "metadata": {
    "ExecuteTime": {
     "end_time": "2024-06-23T09:02:29.310294Z",
     "start_time": "2024-06-23T09:02:29.304524Z"
    }
   },
   "cell_type": "code",
   "source": [
    "# 인덱스의 행 순서를 바꿔서 출력\n",
    "a[[2, 0, 1], :]"
   ],
   "id": "6bd2df01ac55dac7",
   "outputs": [
    {
     "data": {
      "text/plain": [
       "array([[ 9, 10, 11, 12],\n",
       "       [ 1,  2,  3,  4],\n",
       "       [ 5,  6,  7,  8]])"
      ]
     },
     "execution_count": 597,
     "metadata": {},
     "output_type": "execute_result"
    }
   ],
   "execution_count": 597
  }
 ],
 "metadata": {
  "kernelspec": {
   "display_name": "Python 3",
   "language": "python",
   "name": "python3"
  },
  "language_info": {
   "codemirror_mode": {
    "name": "ipython",
    "version": 2
   },
   "file_extension": ".py",
   "mimetype": "text/x-python",
   "name": "python",
   "nbconvert_exporter": "python",
   "pygments_lexer": "ipython2",
   "version": "2.7.6"
  }
 },
 "nbformat": 4,
 "nbformat_minor": 5
}
