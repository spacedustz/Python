{
 "cells": [
  {
   "metadata": {},
   "cell_type": "markdown",
   "source": [
    "## 전치 연산\n",
    "\n",
    "2차원 배열의 전치(transpose) 연산은 행과 열을 바꾸는 작업입니다.\n",
    "\n",
    "이는 배열의 T 속성으루 구할 수 있고 메서드가 아닌 속성이라는 점에 유의해야 합니다."
   ],
   "id": "df17480420324609"
  },
  {
   "metadata": {
    "ExecuteTime": {
     "end_time": "2024-06-30T14:28:41.155044Z",
     "start_time": "2024-06-30T14:28:41.151088Z"
    }
   },
   "cell_type": "code",
   "source": [
    "import numpy as np\n",
    "\n",
    "A = np.array([[1,2,3],[4,5,6],[7,8,9]])\n",
    "A"
   ],
   "id": "e76b10db57486285",
   "outputs": [
    {
     "data": {
      "text/plain": [
       "array([[1, 2, 3],\n",
       "       [4, 5, 6],\n",
       "       [7, 8, 9]])"
      ]
     },
     "execution_count": 3,
     "metadata": {},
     "output_type": "execute_result"
    }
   ],
   "execution_count": 3
  },
  {
   "metadata": {
    "ExecuteTime": {
     "end_time": "2024-06-30T14:28:41.186415Z",
     "start_time": "2024-06-30T14:28:41.182335Z"
    }
   },
   "cell_type": "code",
   "source": "A.T",
   "id": "5d47ab002326c5fb",
   "outputs": [
    {
     "data": {
      "text/plain": [
       "array([[1, 4, 7],\n",
       "       [2, 5, 8],\n",
       "       [3, 6, 9]])"
      ]
     },
     "execution_count": 4,
     "metadata": {},
     "output_type": "execute_result"
    }
   ],
   "execution_count": 4
  },
  {
   "metadata": {},
   "cell_type": "markdown",
   "source": [
    "## 배열의 크기 변형\n",
    "\n",
    "만들어진 배열의 내부 데이터는 보존한 채로 형태만 바꾸려면 `reshape` 명령이나 메서드를 사용합니다.\n",
    "\n",
    "예를 들어 12개의 원소를 가진 1차원 행렬은 3x4 형태의 2차원 행렬로 만들 수 있습니다."
   ],
   "id": "dc5f017576f060ee"
  },
  {
   "metadata": {
    "ExecuteTime": {
     "end_time": "2024-06-30T14:28:41.191031Z",
     "start_time": "2024-06-30T14:28:41.186415Z"
    }
   },
   "cell_type": "code",
   "source": [
    "a = np.arange(12)\n",
    "a"
   ],
   "id": "2d489b2236c95a07",
   "outputs": [
    {
     "data": {
      "text/plain": [
       "array([ 0,  1,  2,  3,  4,  5,  6,  7,  8,  9, 10, 11])"
      ]
     },
     "execution_count": 5,
     "metadata": {},
     "output_type": "execute_result"
    }
   ],
   "execution_count": 5
  },
  {
   "metadata": {
    "ExecuteTime": {
     "end_time": "2024-06-30T14:28:41.199454Z",
     "start_time": "2024-06-30T14:28:41.196331Z"
    }
   },
   "cell_type": "code",
   "source": [
    "b = a.reshape(3,4)\n",
    "b"
   ],
   "id": "64fd6490b214043c",
   "outputs": [
    {
     "data": {
      "text/plain": [
       "array([[ 0,  1,  2,  3],\n",
       "       [ 4,  5,  6,  7],\n",
       "       [ 8,  9, 10, 11]])"
      ]
     },
     "execution_count": 6,
     "metadata": {},
     "output_type": "execute_result"
    }
   ],
   "execution_count": 6
  },
  {
   "metadata": {},
   "cell_type": "markdown",
   "source": "사용하는 원소의 갯수가 정해져 있기 떄문에 ",
   "id": "9dffa1641dbd4c55"
  }
 ],
 "metadata": {
  "kernelspec": {
   "display_name": "Python 3",
   "language": "python",
   "name": "python3"
  },
  "language_info": {
   "codemirror_mode": {
    "name": "ipython",
    "version": 2
   },
   "file_extension": ".py",
   "mimetype": "text/x-python",
   "name": "python",
   "nbconvert_exporter": "python",
   "pygments_lexer": "ipython2",
   "version": "2.7.6"
  }
 },
 "nbformat": 4,
 "nbformat_minor": 5
}
