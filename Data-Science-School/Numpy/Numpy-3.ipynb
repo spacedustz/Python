{
 "cells": [
  {
   "metadata": {},
   "cell_type": "markdown",
   "source": [
    "## 전치 연산\n",
    "\n",
    "2차원 배열의 전치(transpose) 연산은 행과 열을 바꾸는 작업입니다.\n",
    "\n",
    "이는 배열의 T 속성으루 구할 수 있고 메서드가 아닌 속성이라는 점에 유의해야 합니다."
   ],
   "id": "df17480420324609"
  },
  {
   "metadata": {
    "ExecuteTime": {
     "end_time": "2024-07-06T14:30:35.248462Z",
     "start_time": "2024-07-06T14:30:35.244462Z"
    }
   },
   "cell_type": "code",
   "source": [
    "import numpy as np\n",
    "\n",
    "A = np.array([[1,2,3],[4,5,6],[7,8,9]])\n",
    "A"
   ],
   "id": "e76b10db57486285",
   "outputs": [
    {
     "data": {
      "text/plain": [
       "array([[1, 2, 3],\n",
       "       [4, 5, 6],\n",
       "       [7, 8, 9]])"
      ]
     },
     "execution_count": 39,
     "metadata": {},
     "output_type": "execute_result"
    }
   ],
   "execution_count": 39
  },
  {
   "metadata": {
    "ExecuteTime": {
     "end_time": "2024-07-06T14:30:35.286019Z",
     "start_time": "2024-07-06T14:30:35.281686Z"
    }
   },
   "cell_type": "code",
   "source": "A.T",
   "id": "5d47ab002326c5fb",
   "outputs": [
    {
     "data": {
      "text/plain": [
       "array([[1, 4, 7],\n",
       "       [2, 5, 8],\n",
       "       [3, 6, 9]])"
      ]
     },
     "execution_count": 40,
     "metadata": {},
     "output_type": "execute_result"
    }
   ],
   "execution_count": 40
  },
  {
   "metadata": {},
   "cell_type": "markdown",
   "source": [
    "## 배열의 크기 변형\n",
    "\n",
    "만들어진 배열의 내부 데이터는 보존한 채로 형태만 바꾸려면 `reshape` 명령이나 메서드를 사용합니다.\n",
    "\n",
    "예를 들어 12개의 원소를 가진 1차원 행렬은 3x4 형태의 2차원 행렬로 만들 수 있습니다."
   ],
   "id": "dc5f017576f060ee"
  },
  {
   "metadata": {
    "ExecuteTime": {
     "end_time": "2024-07-06T14:30:35.289379Z",
     "start_time": "2024-07-06T14:30:35.287032Z"
    }
   },
   "cell_type": "code",
   "source": [
    "a = np.arange(12)\n",
    "a"
   ],
   "id": "2d489b2236c95a07",
   "outputs": [
    {
     "data": {
      "text/plain": [
       "array([ 0,  1,  2,  3,  4,  5,  6,  7,  8,  9, 10, 11])"
      ]
     },
     "execution_count": 41,
     "metadata": {},
     "output_type": "execute_result"
    }
   ],
   "execution_count": 41
  },
  {
   "metadata": {
    "ExecuteTime": {
     "end_time": "2024-07-06T14:30:35.298563Z",
     "start_time": "2024-07-06T14:30:35.291526Z"
    }
   },
   "cell_type": "code",
   "source": [
    "b = a.reshape(3,4)\n",
    "b"
   ],
   "id": "64fd6490b214043c",
   "outputs": [
    {
     "data": {
      "text/plain": [
       "array([[ 0,  1,  2,  3],\n",
       "       [ 4,  5,  6,  7],\n",
       "       [ 8,  9, 10, 11]])"
      ]
     },
     "execution_count": 42,
     "metadata": {},
     "output_type": "execute_result"
    }
   ],
   "execution_count": 42
  },
  {
   "metadata": {},
   "cell_type": "markdown",
   "source": [
    "사용하는 원소의 갯수가 정해져 있기 떄문에 `reshape` 명령의 형태인 튜플의 원소 중 하나는 -1 이라는 숫자로 대체할 수 있습니다.\n",
    "\n",
    "-1을 넣으면 해당 숫자는 자동으로 나머지 차원의 크기를 계산해 넣게 됩니다."
   ],
   "id": "9dffa1641dbd4c55"
  },
  {
   "metadata": {
    "ExecuteTime": {
     "end_time": "2024-07-06T14:30:35.302035Z",
     "start_time": "2024-07-06T14:30:35.298563Z"
    }
   },
   "cell_type": "code",
   "source": [
    "# 첫번쨰 파라미터 : 첫번째 차원의 크기\n",
    "# 두번쨰 파라미터 : 자동으로 나머지 차원의 크기를 계산하라는 의미의 -1\n",
    "a.reshape(3, -1)"
   ],
   "id": "d9dd9d2ba0954b87",
   "outputs": [
    {
     "data": {
      "text/plain": [
       "array([[ 0,  1,  2,  3],\n",
       "       [ 4,  5,  6,  7],\n",
       "       [ 8,  9, 10, 11]])"
      ]
     },
     "execution_count": 43,
     "metadata": {},
     "output_type": "execute_result"
    }
   ],
   "execution_count": 43
  },
  {
   "metadata": {
    "ExecuteTime": {
     "end_time": "2024-07-06T14:30:35.305390Z",
     "start_time": "2024-07-06T14:30:35.302035Z"
    }
   },
   "cell_type": "code",
   "source": [
    "# 첫번쨰 차원의 크기 2로 고정\n",
    "# 두번쨰 차원의 크기도 2로 고정\n",
    "# 나머지 차원의 크기 자동 계산 : 12 / (2 * 2) = 3\n",
    "a.reshape(2, 2, -1)"
   ],
   "id": "858e7575f56cedbd",
   "outputs": [
    {
     "data": {
      "text/plain": [
       "array([[[ 0,  1,  2],\n",
       "        [ 3,  4,  5]],\n",
       "\n",
       "       [[ 6,  7,  8],\n",
       "        [ 9, 10, 11]]])"
      ]
     },
     "execution_count": 44,
     "metadata": {},
     "output_type": "execute_result"
    }
   ],
   "execution_count": 44
  },
  {
   "metadata": {
    "ExecuteTime": {
     "end_time": "2024-07-06T14:30:35.319101Z",
     "start_time": "2024-07-06T14:30:35.315957Z"
    }
   },
   "cell_type": "code",
   "source": [
    "# 첫번쨰 차원의 크기 2로 고정\n",
    "# 자동 계산 : 12 / (2 * 2) = 3\n",
    "# 3번쨰 배열의 원소 수 2로 고정\n",
    "a.reshape(2, -1, 2)"
   ],
   "id": "6595576a831ab647",
   "outputs": [
    {
     "data": {
      "text/plain": [
       "array([[[ 0,  1],\n",
       "        [ 2,  3],\n",
       "        [ 4,  5]],\n",
       "\n",
       "       [[ 6,  7],\n",
       "        [ 8,  9],\n",
       "        [10, 11]]])"
      ]
     },
     "execution_count": 45,
     "metadata": {},
     "output_type": "execute_result"
    }
   ],
   "execution_count": 45
  },
  {
   "metadata": {},
   "cell_type": "markdown",
   "source": "다차원 배열을 무조건 1차원으로 만들떄는 `flatten`이나 `ravel` 메서드를 사용합니다.",
   "id": "282615af96078efe"
  },
  {
   "metadata": {
    "ExecuteTime": {
     "end_time": "2024-07-06T14:30:35.350696Z",
     "start_time": "2024-07-06T14:30:35.346257Z"
    }
   },
   "cell_type": "code",
   "source": "a.flatten()",
   "id": "b60428c3592ab359",
   "outputs": [
    {
     "data": {
      "text/plain": [
       "array([ 0,  1,  2,  3,  4,  5,  6,  7,  8,  9, 10, 11])"
      ]
     },
     "execution_count": 46,
     "metadata": {},
     "output_type": "execute_result"
    }
   ],
   "execution_count": 46
  },
  {
   "metadata": {
    "ExecuteTime": {
     "end_time": "2024-07-06T14:30:35.354607Z",
     "start_time": "2024-07-06T14:30:35.351377Z"
    }
   },
   "cell_type": "code",
   "source": "a.ravel()",
   "id": "b43163a33f103a99",
   "outputs": [
    {
     "data": {
      "text/plain": [
       "array([ 0,  1,  2,  3,  4,  5,  6,  7,  8,  9, 10, 11])"
      ]
     },
     "execution_count": 47,
     "metadata": {},
     "output_type": "execute_result"
    }
   ],
   "execution_count": 47
  },
  {
   "metadata": {},
   "cell_type": "markdown",
   "source": [
    "배열 사용에서 주의할 점은 길이가 5인 1차원 배열과 행렬의 개수가 (5,1)인 2차원 배열 또는\n",
    "\n",
    "행열의 개수가 (1,5)인 2차원 배열은 데이터가 같아도 다른 객체라는 것에 주의가 필요합니다."
   ],
   "id": "25c929e3c4cff96c"
  },
  {
   "metadata": {
    "ExecuteTime": {
     "end_time": "2024-07-06T14:30:35.357700Z",
     "start_time": "2024-07-06T14:30:35.354607Z"
    }
   },
   "cell_type": "code",
   "source": [
    "x = np.arange(5)\n",
    "x"
   ],
   "id": "6fd87ab27246ac3f",
   "outputs": [
    {
     "data": {
      "text/plain": [
       "array([0, 1, 2, 3, 4])"
      ]
     },
     "execution_count": 48,
     "metadata": {},
     "output_type": "execute_result"
    }
   ],
   "execution_count": 48
  },
  {
   "metadata": {
    "ExecuteTime": {
     "end_time": "2024-07-06T14:30:35.365954Z",
     "start_time": "2024-07-06T14:30:35.362241Z"
    }
   },
   "cell_type": "code",
   "source": "x.reshape(1,5)",
   "id": "bf2e5aa303c027ba",
   "outputs": [
    {
     "data": {
      "text/plain": [
       "array([[0, 1, 2, 3, 4]])"
      ]
     },
     "execution_count": 49,
     "metadata": {},
     "output_type": "execute_result"
    }
   ],
   "execution_count": 49
  },
  {
   "metadata": {
    "ExecuteTime": {
     "end_time": "2024-07-06T14:30:35.369917Z",
     "start_time": "2024-07-06T14:30:35.366961Z"
    }
   },
   "cell_type": "code",
   "source": "x.reshape(5,1)",
   "id": "1759deed1c133264",
   "outputs": [
    {
     "data": {
      "text/plain": [
       "array([[0],\n",
       "       [1],\n",
       "       [2],\n",
       "       [3],\n",
       "       [4]])"
      ]
     },
     "execution_count": 50,
     "metadata": {},
     "output_type": "execute_result"
    }
   ],
   "execution_count": 50
  },
  {
   "metadata": {
    "ExecuteTime": {
     "end_time": "2024-07-06T14:30:35.373556Z",
     "start_time": "2024-07-06T14:30:35.370925Z"
    }
   },
   "cell_type": "code",
   "source": [
    "# :의 의미 = 마지막 x의 차원은 5, 이고 모든 행 선택\n",
    "# np.newaxis = 새로운 축을 추가해 5, 에서 5,1 이 됨 -> [[0], [1], [2], [3], [4]]\n",
    "# 즉 1차원 배열을 2차원 배열로 차원을 추가(np.newaxis)\n",
    "x[:, np.newaxis]"
   ],
   "id": "b3e9755bdd0063c2",
   "outputs": [
    {
     "data": {
      "text/plain": [
       "array([[0],\n",
       "       [1],\n",
       "       [2],\n",
       "       [3],\n",
       "       [4]])"
      ]
     },
     "execution_count": 51,
     "metadata": {},
     "output_type": "execute_result"
    }
   ],
   "execution_count": 51
  }
 ],
 "metadata": {
  "kernelspec": {
   "display_name": "Python 3",
   "language": "python",
   "name": "python3"
  },
  "language_info": {
   "codemirror_mode": {
    "name": "ipython",
    "version": 2
   },
   "file_extension": ".py",
   "mimetype": "text/x-python",
   "name": "python",
   "nbconvert_exporter": "python",
   "pygments_lexer": "ipython2",
   "version": "2.7.6"
  }
 },
 "nbformat": 4,
 "nbformat_minor": 5
}
