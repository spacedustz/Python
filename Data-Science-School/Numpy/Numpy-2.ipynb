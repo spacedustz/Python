{
 "cells": [
  {
   "metadata": {},
   "cell_type": "markdown",
   "source": [
    "## Numpy의 자료형\n",
    "\n",
    "넘파이의 배열 즉, `ndarray` 클래스는 원소가 모두 같은 자료형이어야 합니다.\n",
    "\n",
    "`array` 명령으로 배열을 만들 때 자료형을 명시적으로 적용하려면 `dtype` 파라미터를 사용합니다.\n",
    "\n",
    "만약 `dtype` 파라미터가 없으면 주어진 데이터를 저장할 수 있는 자료형을 스스로 유추합니다.\n",
    "\n",
    "만들어진 배열의 자료형을 알아내려면 `dtype` 속성을 보면 됩니다."
   ],
   "id": "43e3196abc56cf7b"
  },
  {
   "metadata": {
    "ExecuteTime": {
     "end_time": "2024-06-28T14:33:19.186773Z",
     "start_time": "2024-06-28T14:33:19.183774Z"
    }
   },
   "cell_type": "code",
   "source": [
    "import numpy as np\n",
    "\n",
    "x = np.array([1,2,3])\n",
    "x.dtype"
   ],
   "id": "f7e03437e5c869e",
   "outputs": [
    {
     "data": {
      "text/plain": [
       "dtype('int32')"
      ]
     },
     "execution_count": 157,
     "metadata": {},
     "output_type": "execute_result"
    }
   ],
   "execution_count": 157
  },
  {
   "metadata": {
    "ExecuteTime": {
     "end_time": "2024-06-28T14:33:19.244263Z",
     "start_time": "2024-06-28T14:33:19.240584Z"
    }
   },
   "cell_type": "code",
   "source": [
    "x = np.array([1.0,2.0,3.0])\n",
    "x.dtype"
   ],
   "id": "4ce5f035dbdf0061",
   "outputs": [
    {
     "data": {
      "text/plain": [
       "dtype('float64')"
      ]
     },
     "execution_count": 158,
     "metadata": {},
     "output_type": "execute_result"
    }
   ],
   "execution_count": 158
  },
  {
   "metadata": {
    "ExecuteTime": {
     "end_time": "2024-06-28T14:33:19.247741Z",
     "start_time": "2024-06-28T14:33:19.244263Z"
    }
   },
   "cell_type": "code",
   "source": [
    "x = np.array([1,2,3.0])\n",
    "x.dtype"
   ],
   "id": "4eb9d0a5af7c8b6b",
   "outputs": [
    {
     "data": {
      "text/plain": [
       "dtype('float64')"
      ]
     },
     "execution_count": 159,
     "metadata": {},
     "output_type": "execute_result"
    }
   ],
   "execution_count": 159
  },
  {
   "metadata": {},
   "cell_type": "markdown",
   "source": [
    "`dtype` 파라미터로 지정할 자료형은 아래 표에 보인것과 같은 `dtype 접두사`로 시작하는 문자열이고,\n",
    "\n",
    "이 글자 뒤에 오는 숫자는 바이트 수 혹은 글자 수를 의미합니다.\n",
    "\n",
    "예를 들어 `f8`은 8바이트(64비트) 부동소수점 실수를 뜻하고, `U4`는 4글자 유니코드 뮨자열을 뜻합니다.\n",
    "\n",
    "숫자를 생략하면 OS에 따라 알맞은 크리를 지정합니다.\n",
    "\n",
    "<br>\n",
    "\n",
    "| **dtype 접두사** | **설명** | **사용 예시**   |\n",
    "|---------------|--------|-------------|\n",
    "| b             | 불리언    | b (참 혹은 거짓) |\n",
    "|i|정수|i8(64비트)|\n",
    "|u|부호 없는 정수|u8(64비트)|\n",
    "|f|부동소수점|f8(64비트)|\n",
    "|c|복소 부동소수점|c16(128비트)|\n",
    "|O|객체|0(객체에 대한 포인터)|\n",
    "|S|바이트 문자열|S24(24글자)|\n",
    "|U|유니코드 문자열|U24(24 유니코드 글자)|"
   ],
   "id": "a7be2c8c1a99c1b3"
  },
  {
   "metadata": {
    "ExecuteTime": {
     "end_time": "2024-06-28T14:33:19.253298Z",
     "start_time": "2024-06-28T14:33:19.250083Z"
    }
   },
   "cell_type": "code",
   "source": [
    "x = np.array([1,2,3], dtype='f')\n",
    "x.dtype"
   ],
   "id": "151e084f9e4b1ec7",
   "outputs": [
    {
     "data": {
      "text/plain": [
       "dtype('float32')"
      ]
     },
     "execution_count": 160,
     "metadata": {},
     "output_type": "execute_result"
    }
   ],
   "execution_count": 160
  },
  {
   "metadata": {
    "ExecuteTime": {
     "end_time": "2024-06-28T14:33:19.256741Z",
     "start_time": "2024-06-28T14:33:19.253298Z"
    }
   },
   "cell_type": "code",
   "source": "x[0] + x[1]",
   "id": "b708ecb2464e5c55",
   "outputs": [
    {
     "data": {
      "text/plain": [
       "3.0"
      ]
     },
     "execution_count": 161,
     "metadata": {},
     "output_type": "execute_result"
    }
   ],
   "execution_count": 161
  },
  {
   "metadata": {
    "ExecuteTime": {
     "end_time": "2024-06-28T14:33:19.260649Z",
     "start_time": "2024-06-28T14:33:19.256741Z"
    }
   },
   "cell_type": "code",
   "source": [
    "x = np.array([1,2,3], dtype='U')\n",
    "x.dtype"
   ],
   "id": "36937764419d5e3",
   "outputs": [
    {
     "data": {
      "text/plain": [
       "dtype('<U1')"
      ]
     },
     "execution_count": 162,
     "metadata": {},
     "output_type": "execute_result"
    }
   ],
   "execution_count": 162
  },
  {
   "metadata": {
    "ExecuteTime": {
     "end_time": "2024-06-28T14:33:19.301936Z",
     "start_time": "2024-06-28T14:33:19.298127Z"
    }
   },
   "cell_type": "code",
   "source": "x[0] + x[1]",
   "id": "7bb2c15d133b7653",
   "outputs": [
    {
     "data": {
      "text/plain": [
       "'12'"
      ]
     },
     "execution_count": 163,
     "metadata": {},
     "output_type": "execute_result"
    }
   ],
   "execution_count": 163
  },
  {
   "metadata": {},
   "cell_type": "markdown",
   "source": [
    "## Inf와 NaN\n",
    "\n",
    "넘파이에서는 무한대를 표현하기 위한 `np.inf(infinity)`와 정의할 수 없는 숫자를 나타내는 `np.nan(not a number)`을 사용할 수 있습니다.\n",
    "\n",
    "다음 예와 같이 1을 0으로 나누려고 하거나, 0에 대한 로그값을 계산하면 무한대인 `np.inf`가 나오며,\n",
    "\n",
    "0을 0으로 나누려고 시도하면 `np.nan`이 나옵니다."
   ],
   "id": "a5dccb37eba434fa"
  },
  {
   "metadata": {
    "ExecuteTime": {
     "end_time": "2024-06-28T14:33:19.332488Z",
     "start_time": "2024-06-28T14:33:19.328946Z"
    }
   },
   "cell_type": "code",
   "source": "np.array([0, 1, -1, 0]) / np.array([1, 0, 0, 0])",
   "id": "657a7c04481bfb7c",
   "outputs": [
    {
     "name": "stderr",
     "output_type": "stream",
     "text": [
      "C:\\Users\\space\\AppData\\Local\\Temp\\ipykernel_4608\\1536815541.py:1: RuntimeWarning: divide by zero encountered in divide\n",
      "  np.array([0, 1, -1, 0]) / np.array([1, 0, 0, 0])\n",
      "C:\\Users\\space\\AppData\\Local\\Temp\\ipykernel_4608\\1536815541.py:1: RuntimeWarning: invalid value encountered in divide\n",
      "  np.array([0, 1, -1, 0]) / np.array([1, 0, 0, 0])\n"
     ]
    },
    {
     "data": {
      "text/plain": [
       "array([  0.,  inf, -inf,  nan])"
      ]
     },
     "execution_count": 164,
     "metadata": {},
     "output_type": "execute_result"
    }
   ],
   "execution_count": 164
  },
  {
   "metadata": {
    "ExecuteTime": {
     "end_time": "2024-06-28T14:33:19.349821Z",
     "start_time": "2024-06-28T14:33:19.345816Z"
    }
   },
   "cell_type": "code",
   "source": "np.log(0)",
   "id": "2ea0a698bf912bc",
   "outputs": [
    {
     "name": "stderr",
     "output_type": "stream",
     "text": [
      "C:\\Users\\space\\AppData\\Local\\Temp\\ipykernel_4608\\1608527138.py:1: RuntimeWarning: divide by zero encountered in log\n",
      "  np.log(0)\n"
     ]
    },
    {
     "data": {
      "text/plain": [
       "-inf"
      ]
     },
     "execution_count": 165,
     "metadata": {},
     "output_type": "execute_result"
    }
   ],
   "execution_count": 165
  },
  {
   "metadata": {
    "ExecuteTime": {
     "end_time": "2024-06-28T14:33:19.363026Z",
     "start_time": "2024-06-28T14:33:19.359823Z"
    }
   },
   "cell_type": "code",
   "source": "np.exp(-np.inf)",
   "id": "21bbfbbbf9cfd4c2",
   "outputs": [
    {
     "data": {
      "text/plain": [
       "0.0"
      ]
     },
     "execution_count": 166,
     "metadata": {},
     "output_type": "execute_result"
    }
   ],
   "execution_count": 166
  },
  {
   "metadata": {},
   "cell_type": "markdown",
   "source": [
    "## 배열 생성\n",
    "\n",
    "Numpy는 몇가지 단순한 배열을 생성하는 명령을 제공합니다.\n",
    "\n",
    "- zeros, ones\n",
    "- zeros_like, ones_like\n",
    "- empty\n",
    "- arange\n",
    "- linspace, logspace\n",
    "\n",
    "크기가 정해져 있고 모든 값이 0인 배열을 생성하려면 zeros 명령을 사용하고, 파라미터로 배열의 크기를 넣어주면 됩니다."
   ],
   "id": "c823fed3331b9dc9"
  },
  {
   "metadata": {
    "ExecuteTime": {
     "end_time": "2024-06-28T14:33:19.366729Z",
     "start_time": "2024-06-28T14:33:19.363026Z"
    }
   },
   "cell_type": "code",
   "source": [
    "a = np.zeros(5)\n",
    "a"
   ],
   "id": "c8002ded3bf684d9",
   "outputs": [
    {
     "data": {
      "text/plain": [
       "array([0., 0., 0., 0., 0.])"
      ]
     },
     "execution_count": 167,
     "metadata": {},
     "output_type": "execute_result"
    }
   ],
   "execution_count": 167
  },
  {
   "metadata": {},
   "cell_type": "markdown",
   "source": "크기를 뜻하는 튜플을 입력하면 다차원 배열도 만들 수 있습니다.",
   "id": "c10a065598e1c4a5"
  },
  {
   "metadata": {
    "ExecuteTime": {
     "end_time": "2024-06-28T14:33:19.396719Z",
     "start_time": "2024-06-28T14:33:19.393080Z"
    }
   },
   "cell_type": "code",
   "source": [
    "b = np.zeros((2,3))\n",
    "b"
   ],
   "id": "c9c3f60700e94181",
   "outputs": [
    {
     "data": {
      "text/plain": [
       "array([[0., 0., 0.],\n",
       "       [0., 0., 0.]])"
      ]
     },
     "execution_count": 168,
     "metadata": {},
     "output_type": "execute_result"
    }
   ],
   "execution_count": 168
  },
  {
   "metadata": {},
   "cell_type": "markdown",
   "source": "`array` 명령과 마찬가지로 `dtype` 파라미터를 명시하면 해당 자료형 원소를 가진 배열을 생성합니다.",
   "id": "c569eca39ce53a02"
  },
  {
   "metadata": {
    "ExecuteTime": {
     "end_time": "2024-06-28T14:33:19.411672Z",
     "start_time": "2024-06-28T14:33:19.408206Z"
    }
   },
   "cell_type": "code",
   "source": [
    "c = np.zeros((5, 2), dtype=\"i\")\n",
    "c"
   ],
   "id": "15bbbed0433ef54a",
   "outputs": [
    {
     "data": {
      "text/plain": [
       "array([[0, 0],\n",
       "       [0, 0],\n",
       "       [0, 0],\n",
       "       [0, 0],\n",
       "       [0, 0]], dtype=int32)"
      ]
     },
     "execution_count": 169,
     "metadata": {},
     "output_type": "execute_result"
    }
   ],
   "execution_count": 169
  },
  {
   "metadata": {},
   "cell_type": "markdown",
   "source": [
    "문자열 배열도 가능하지만 모든 원소의 문자열 크기가 같아야 합니다.\n",
    "\n",
    "만약 더 큰 크기의 문자열을 할당하면 문자열이 잘릴 수 있습니다."
   ],
   "id": "b2e17d559e09e94b"
  },
  {
   "metadata": {
    "ExecuteTime": {
     "end_time": "2024-06-28T14:33:19.416205Z",
     "start_time": "2024-06-28T14:33:19.412674Z"
    }
   },
   "cell_type": "code",
   "source": [
    "d = np.zeros(5, dtype=\"U4\")\n",
    "d"
   ],
   "id": "967ab7f58d7dc644",
   "outputs": [
    {
     "data": {
      "text/plain": [
       "array(['', '', '', '', ''], dtype='<U4')"
      ]
     },
     "execution_count": 170,
     "metadata": {},
     "output_type": "execute_result"
    }
   ],
   "execution_count": 170
  },
  {
   "metadata": {
    "ExecuteTime": {
     "end_time": "2024-06-28T14:33:19.427631Z",
     "start_time": "2024-06-28T14:33:19.424604Z"
    }
   },
   "cell_type": "code",
   "source": [
    "d[0] = \"abc\"\n",
    "d[1] = \"abcd\"\n",
    "d[2] = \"ABCDE\"\n",
    "d"
   ],
   "id": "52708fdcd1a03222",
   "outputs": [
    {
     "data": {
      "text/plain": [
       "array(['abc', 'abcd', 'ABCD', '', ''], dtype='<U4')"
      ]
     },
     "execution_count": 171,
     "metadata": {},
     "output_type": "execute_result"
    }
   ],
   "execution_count": 171
  },
  {
   "metadata": {},
   "cell_type": "markdown",
   "source": "0이 아닌 1로 초기화된 배열을 생성하려면 zeros 대신 one를 사용합니다.",
   "id": "dabf3117951e5b82"
  },
  {
   "metadata": {
    "ExecuteTime": {
     "end_time": "2024-06-28T14:33:19.444576Z",
     "start_time": "2024-06-28T14:33:19.441292Z"
    }
   },
   "cell_type": "code",
   "source": [
    "e = np.ones((2, 3, 4), dtype=\"i8\")\n",
    "e"
   ],
   "id": "45e785090a49032c",
   "outputs": [
    {
     "data": {
      "text/plain": [
       "array([[[1, 1, 1, 1],\n",
       "        [1, 1, 1, 1],\n",
       "        [1, 1, 1, 1]],\n",
       "\n",
       "       [[1, 1, 1, 1],\n",
       "        [1, 1, 1, 1],\n",
       "        [1, 1, 1, 1]]], dtype=int64)"
      ]
     },
     "execution_count": 172,
     "metadata": {},
     "output_type": "execute_result"
    }
   ],
   "execution_count": 172
  },
  {
   "metadata": {},
   "cell_type": "markdown",
   "source": "만약 크기를 튜플로 명시하지 않고 다른 배열과 같은 크기의 배열을 생성하고 싶다면 ones_list, zeros_like를 사용합니다.",
   "id": "41712197c85aaf39"
  },
  {
   "metadata": {
    "ExecuteTime": {
     "end_time": "2024-06-28T14:33:19.487910Z",
     "start_time": "2024-06-28T14:33:19.483422Z"
    }
   },
   "cell_type": "code",
   "source": [
    "# 정수 배열을 f 배열로 똑같이 복사\n",
    "f = np.ones_like(b, dtype=\"f\")\n",
    "f"
   ],
   "id": "1be4d605876efbd0",
   "outputs": [
    {
     "data": {
      "text/plain": [
       "array([[1., 1., 1.],\n",
       "       [1., 1., 1.]], dtype=float32)"
      ]
     },
     "execution_count": 173,
     "metadata": {},
     "output_type": "execute_result"
    }
   ],
   "execution_count": 173
  },
  {
   "metadata": {},
   "cell_type": "markdown",
   "source": [
    "배열의 크기가 커지면 배열을 초기화 하는데도 시간이 걸립니다.\n",
    "\n",
    "이 시간을 단축하려면 배열을 생성만 하고 특정 값으로 초기화를 하지않는 `empty`를 사용하면 됩니다.\n",
    "\n",
    "`empty`로 생성된 배열에는 기존에 메모리에 저장되어 있던 값이 있으므로 배열 원소의 값을 미리 알 수 있습니다."
   ],
   "id": "3e42f69e61ff9046"
  },
  {
   "metadata": {
    "ExecuteTime": {
     "end_time": "2024-06-28T14:33:19.508217Z",
     "start_time": "2024-06-28T14:33:19.504433Z"
    }
   },
   "cell_type": "code",
   "source": [
    "g = np.empty((4, 3))\n",
    "g"
   ],
   "id": "838a2ab9b3271aa1",
   "outputs": [
    {
     "data": {
      "text/plain": [
       "array([[1.33233796e-311, 2.86558075e-322, 0.00000000e+000],\n",
       "       [0.00000000e+000, 2.12199579e-314, 2.46567317e+179],\n",
       "       [6.81638214e-091, 4.91127527e-062, 2.32498096e-057],\n",
       "       [4.85634396e-033, 6.48224660e+170, 5.82471487e+257]])"
      ]
     },
     "execution_count": 174,
     "metadata": {},
     "output_type": "execute_result"
    }
   ],
   "execution_count": 174
  },
  {
   "metadata": {},
   "cell_type": "markdown",
   "source": "`arange`명령은 numpy 버전의 range 명령이라고 볼 수 있습니다. 특정 규칙에 따라 증가하는 수열을 만듭니다.",
   "id": "a277b009b95e83ee"
  },
  {
   "metadata": {
    "ExecuteTime": {
     "end_time": "2024-06-28T14:33:19.543700Z",
     "start_time": "2024-06-28T14:33:19.540222Z"
    }
   },
   "cell_type": "code",
   "source": [
    "# 0 .. n-1\n",
    "np.arange(10)"
   ],
   "id": "e82ecc6856a87b2b",
   "outputs": [
    {
     "data": {
      "text/plain": [
       "array([0, 1, 2, 3, 4, 5, 6, 7, 8, 9])"
      ]
     },
     "execution_count": 175,
     "metadata": {},
     "output_type": "execute_result"
    }
   ],
   "execution_count": 175
  },
  {
   "metadata": {
    "ExecuteTime": {
     "end_time": "2024-06-28T14:33:19.562114Z",
     "start_time": "2024-06-28T14:33:19.557809Z"
    }
   },
   "cell_type": "code",
   "source": [
    "# 시작, 끝(포함하지 않음), 단계\n",
    "# 3부터 2씩 증가하고 21은 포함하지 않음\n",
    "np.arange(3, 21, 2)"
   ],
   "id": "fa11e3fd896c13ea",
   "outputs": [
    {
     "data": {
      "text/plain": [
       "array([ 3,  5,  7,  9, 11, 13, 15, 17, 19])"
      ]
     },
     "execution_count": 176,
     "metadata": {},
     "output_type": "execute_result"
    }
   ],
   "execution_count": 176
  },
  {
   "metadata": {},
   "cell_type": "markdown",
   "source": [
    "`linspace`와 `logspace` 명령은 선형 구간 혹은 로그 구간을 지정한 구간의 수만큼 분할합니다.\n",
    "\n",
    "- linspace : 지정된 범위 내에서 **동일한 간격**을 가진 숫자 생성\n",
    "- logspace :  로그 스케일을 사용해 지정된 범위 내에서 동일한 간격을 가진 숫자 생성"
   ],
   "id": "c5ad68f6c14bc648"
  },
  {
   "metadata": {
    "ExecuteTime": {
     "end_time": "2024-06-28T14:33:19.586527Z",
     "start_time": "2024-06-28T14:33:19.582120Z"
    }
   },
   "cell_type": "code",
   "source": [
    "# 시작, 끝(포함), 개수\n",
    "# 0부터 100까지 동일한 간격(25)으로 숫자 생성\n",
    "np.linspace(0, 100, 5)"
   ],
   "id": "174d8b5faf38e4af",
   "outputs": [
    {
     "data": {
      "text/plain": [
       "array([  0.,  25.,  50.,  75., 100.])"
      ]
     },
     "execution_count": 177,
     "metadata": {},
     "output_type": "execute_result"
    }
   ],
   "execution_count": 177
  },
  {
   "metadata": {
    "ExecuteTime": {
     "end_time": "2024-06-28T14:33:19.633829Z",
     "start_time": "2024-06-28T14:33:19.629774Z"
    }
   },
   "cell_type": "code",
   "source": [
    "# 10^0.1 에서 10^1 까지의 숫자를 로그 스케일로 10개 생성\n",
    "np.logspace(0.1, 1, 10)"
   ],
   "id": "ed32bf917000d9c3",
   "outputs": [
    {
     "data": {
      "text/plain": [
       "array([ 1.25892541,  1.58489319,  1.99526231,  2.51188643,  3.16227766,\n",
       "        3.98107171,  5.01187234,  6.30957344,  7.94328235, 10.        ])"
      ]
     },
     "execution_count": 178,
     "metadata": {},
     "output_type": "execute_result"
    }
   ],
   "execution_count": 178
  }
 ],
 "metadata": {
  "kernelspec": {
   "display_name": "Python 3",
   "language": "python",
   "name": "python3"
  },
  "language_info": {
   "codemirror_mode": {
    "name": "ipython",
    "version": 2
   },
   "file_extension": ".py",
   "mimetype": "text/x-python",
   "name": "python",
   "nbconvert_exporter": "python",
   "pygments_lexer": "ipython2",
   "version": "2.7.6"
  }
 },
 "nbformat": 4,
 "nbformat_minor": 5
}
